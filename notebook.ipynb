{
 "cells": [
  {
   "cell_type": "markdown",
   "id": "4a669c8b-d557-4387-805a-654934a6e3eb",
   "metadata": {},
   "source": [
    "# Welcome! You are now in DataLab.\n",
    "You successfully completed your project and are looking for some additional related challenges. This DataLab workbook contains the official solution from our curriculum staff, along with Additional Challenges at the bottom. If you would like a quick overview of DataLab, please refer to the help menu. You can easily share your project with your friends and colleagues when you're done.\n",
    "\n",
    "Good luck with your additional challenges!"
   ]
  },
  {
   "cell_type": "markdown",
   "id": "13335817",
   "metadata": {},
   "source": [
    "![Parked motorcycle](motorcycle.jpg)\n",
    "\n",
    "You're working for a company that sells motorcycle parts, and they've asked for some help in analyzing their sales data!\n",
    "\n",
    "They operate three warehouses in the area, selling both retail and wholesale. They offer a variety of parts and accept credit cards, cash, and bank transfer as payment methods. However, each payment type incurs a different fee.\n",
    "\n",
    "The board of directors wants to gain a better understanding of wholesale revenue by product line, and how this varies month-to-month and across warehouses. You have been tasked with calculating net revenue for each product line and grouping results by month and warehouse. The results should be filtered so that only `\"Wholesale\"` orders are included.\n",
    "\n",
    "They have provided you with access to their database, which contains the following table called `sales`:\n",
    "\n",
    "## Sales\n",
    "| Column | Data type | Description |\n",
    "|--------|-----------|-------------|\n",
    "| `order_number` | `VARCHAR` | Unique order number. |\n",
    "| `date` | `DATE` | Date of the order, from June to August 2021. |\n",
    "| `warehouse` | `VARCHAR` | The warehouse that the order was made from&mdash; `North`, `Central`, or `West`. |\n",
    "| `client_type` | `VARCHAR` | Whether the order was `Retail` or `Wholesale`. |\n",
    "| `product_line` | `VARCHAR` | Type of product ordered. |\n",
    "| `quantity` | `INT` | Number of products ordered. | \n",
    "| `unit_price` | `FLOAT` | Price per product (dollars). |\n",
    "| `total` | `FLOAT` | Total price of the order (dollars). |\n",
    "| `payment` | `VARCHAR` | Payment method&mdash;`Credit card`, `Transfer`, or `Cash`. |\n",
    "| `payment_fee` | `FLOAT` | Percentage of `total` charged as a result of the `payment` method. |\n",
    "\n",
    "\n",
    "Your query output should be presented in the following format:\n",
    "\n",
    "| `product_line` | `month` | `warehouse` |\t`net_revenue` |\n",
    "|----------------|-----------|----------------------------|--------------|\n",
    "| product_one | --- | --- | --- |\n",
    "| product_one | --- | --- | --- |\n",
    "| product_one | --- | --- | --- |\n",
    "| product_one | --- | --- | --- |\n",
    "| product_one | --- | --- | --- |\n",
    "| product_one | --- | --- | --- |\n",
    "| product_two | --- | --- | --- |\n",
    "| ... | ... | ... | ... "
   ]
  },
  {
   "cell_type": "code",
   "execution_count": 2,
   "id": "db50be66-c237-4a28-a808-f17251b9f3a3",
   "metadata": {
    "customType": "sql",
    "dataFrameVariableName": "display_sales",
    "executionCancelledAt": null,
    "executionTime": null,
    "lastExecutedAt": null,
    "lastExecutedByKernel": null,
    "lastScheduledRunId": null,
    "lastSuccessfullyExecutedCode": null,
    "outputsMetadata": {
     "0": {
      "height": 550,
      "tableState": {
       "customFilter": {
        "const": {
         "type": "boolean",
         "valid": true,
         "value": true
        },
        "id": "1fb76ace-d663-45aa-887e-d9aae606d655",
        "nodeType": "const"
       }
      },
      "type": "dataFrame"
     }
    },
    "sqlCellMode": "dataFrame",
    "sqlSource": {
     "integrationId": "89e17161-a224-4a8a-846b-0adc0fe7a4b1",
     "type": "integration"
    }
   },
   "outputs": [
    {
     "ename": "SyntaxError",
     "evalue": "invalid syntax (3323485067.py, line 1)",
     "output_type": "error",
     "traceback": [
      "\u001b[1;36m  Cell \u001b[1;32mIn[2], line 1\u001b[1;36m\u001b[0m\n\u001b[1;33m    SELECT *\u001b[0m\n\u001b[1;37m            ^\u001b[0m\n\u001b[1;31mSyntaxError\u001b[0m\u001b[1;31m:\u001b[0m invalid syntax\n"
     ]
    }
   ],
   "source": [
    "SELECT *\n",
    "FROM sales;"
   ]
  },
  {
   "cell_type": "code",
   "execution_count": 3,
   "id": "ff58f388",
   "metadata": {
    "collapsed": false,
    "customType": "sql",
    "dataFrameVariableName": "revenue_by_product_line",
    "executionCancelledAt": null,
    "executionTime": 1081,
    "initial": false,
    "integrationId": "89e17161-a224-4a8a-846b-0adc0fe7a4b1",
    "jupyter": {
     "outputs_hidden": false,
     "source_hidden": false
    },
    "lastExecutedAt": 1753491305638,
    "lastExecutedByKernel": "66e316c6-fedc-4dbc-bb3f-d35ee54b8b9e",
    "lastScheduledRunId": null,
    "lastSuccessfullyExecutedCode": "-- Select the product line, month name, warehouse, and net revenue\nSELECT\n    product_line,  \t\t\t\t\t\t\t -- Type of product ordered\n    TO_CHAR(date, 'Month') AS month, \t\t -- Convert 'date' full month name (e.g., 'July')\n    warehouse, \t\t\t\t\t\t\t\t -- The warehouse that the order was made from\n    SUM(total - payment_fee) AS net_revenue  -- Calculate net revenue by subtracting 'payment _fee' from total\nFROM sales\nWHERE \n    client_type = 'Wholesale'  -- Include only sales to wholesale clients\nGROUP BY \n    product_line,           -- Group results by product_line\n    warehouse,              -- Group by warehouse to see revenue per location\n    TO_CHAR(date, 'Month')  -- Group by the name of the month\nORDER BY \n    product_line ASC,  -- Sort results by product line, alphabetically\n    month DESC, \t   -- Then by month name, June to August\n    net_revenue DESC;  -- Then by net revenue, descending",
    "outputsMetadata": {
     "0": {
      "height": 550,
      "tableState": {
       "customFilter": {
        "const": {
         "type": "boolean",
         "valid": true,
         "value": true
        },
        "id": "73e2e76d-eb61-4b4e-a3ef-6887bed87540",
        "nodeType": "const"
       },
       "quickFilterText": ""
      },
      "type": "dataFrame"
     }
    }
   },
   "outputs": [
    {
     "ename": "SyntaxError",
     "evalue": "invalid syntax (726851506.py, line 1)",
     "output_type": "error",
     "traceback": [
      "\u001b[1;36m  Cell \u001b[1;32mIn[3], line 1\u001b[1;36m\u001b[0m\n\u001b[1;33m    -- Select the product line, month name, warehouse, and net revenue\u001b[0m\n\u001b[1;37m              ^\u001b[0m\n\u001b[1;31mSyntaxError\u001b[0m\u001b[1;31m:\u001b[0m invalid syntax\n"
     ]
    }
   ],
   "source": [
    "-- Select the product line, month name, warehouse, and net revenue\n",
    "SELECT\n",
    "    product_line,  \t\t\t\t\t\t\t -- Type of product ordered\n",
    "    TO_CHAR(date, 'Month') AS month, \t\t -- Convert 'date' full month name (e.g., 'July')\n",
    "    warehouse, \t\t\t\t\t\t\t\t -- The warehouse that the order was made from\n",
    "    SUM(total - payment_fee) AS net_revenue  -- Calculate net revenue by subtracting 'payment _fee' from total\n",
    "FROM sales\n",
    "WHERE \n",
    "    client_type = 'Wholesale'  -- Include only sales to wholesale clients\n",
    "GROUP BY \n",
    "    product_line,           -- Group results by product_line\n",
    "    warehouse,              -- Group by warehouse to see revenue per location\n",
    "    TO_CHAR(date, 'Month')  -- Group by the name of the month\n",
    "ORDER BY \n",
    "    product_line ASC,  -- Sort results by product line, alphabetically\n",
    "    month DESC, \t   -- Then by month name, June to August\n",
    "    net_revenue DESC;  -- Then by net revenue, descending"
   ]
  },
  {
   "cell_type": "markdown",
   "id": "05df948d-4de2-4644-a5d0-89985945f9c6",
   "metadata": {
    "collapsed": false,
    "jupyter": {
     "outputs_hidden": false,
     "source_hidden": false
    }
   },
   "source": [
    "---\n",
    "# Extended Project below"
   ]
  },
  {
   "cell_type": "markdown",
   "id": "26de0569-7eef-4ddb-aeb2-231cb586129b",
   "metadata": {
    "collapsed": false,
    "jupyter": {
     "outputs_hidden": false,
     "source_hidden": false
    }
   },
   "source": [
    "The finance team is exploring ways to reduce transaction costs and improve profitability. They’ve asked you to determine the most profitable payment method for each warehouse in each month. Calculate the net revenue for each payment method, grouped by warehouse and month, and identify the top payment method for each combination."
   ]
  },
  {
   "cell_type": "code",
   "execution_count": 20,
   "id": "c6eafdc4-679a-444f-b14f-568a50359b90",
   "metadata": {
    "collapsed": false,
    "customType": "sql",
    "dataFrameVariableName": "top_payment_methods",
    "executionCancelledAt": null,
    "executionTime": null,
    "jupyter": {
     "outputs_hidden": false,
     "source_hidden": false
    },
    "lastExecutedAt": null,
    "lastExecutedByKernel": null,
    "lastScheduledRunId": null,
    "lastSuccessfullyExecutedCode": null,
    "outputsMetadata": {
     "0": {
      "height": 356,
      "tableState": {
       "customFilter": {
        "const": {
         "type": "boolean",
         "valid": true,
         "value": true
        },
        "id": "1fb76ace-d663-45aa-887e-d9aae606d655",
        "nodeType": "const"
       }
      },
      "type": "dataFrame"
     }
    },
    "sqlCellMode": "dataFrame",
    "sqlSource": {
     "integrationId": "89e17161-a224-4a8a-846b-0adc0fe7a4b1",
     "type": "integration"
    }
   },
   "outputs": [
    {
     "data": {
      "application/com.datacamp.data-table.v2+json": {
       "table": {
        "data": {
         "index": [
          0,
          1,
          2,
          3,
          4,
          5,
          6,
          7,
          8
         ],
         "month": [
          6,
          7,
          8,
          6,
          7,
          8,
          6,
          7,
          8
         ],
         "net_revenue": [
          23453.08,
          23893.59,
          31509,
          17000.12,
          17585.25,
          23480.13,
          8645.98,
          7606.51,
          6466.42
         ],
         "payment": [
          "Transfer",
          "Transfer",
          "Transfer",
          "Transfer",
          "Transfer",
          "Transfer",
          "Transfer",
          "Transfer",
          "Transfer"
         ],
         "warehouse": [
          "Central",
          "Central",
          "Central",
          "North",
          "North",
          "North",
          "West",
          "West",
          "West"
         ]
        },
        "schema": {
         "fields": [
          {
           "name": "index",
           "type": "integer"
          },
          {
           "name": "payment",
           "type": "string"
          },
          {
           "name": "month",
           "type": "integer"
          },
          {
           "name": "warehouse",
           "type": "string"
          },
          {
           "name": "net_revenue",
           "type": "number"
          }
         ],
         "pandas_version": "1.4.0",
         "primaryKey": [
          "index"
         ]
        }
       },
       "total_rows": 9,
       "truncation_type": null
      },
      "text/html": [
       "<div>\n",
       "<style scoped>\n",
       "    .dataframe tbody tr th:only-of-type {\n",
       "        vertical-align: middle;\n",
       "    }\n",
       "\n",
       "    .dataframe tbody tr th {\n",
       "        vertical-align: top;\n",
       "    }\n",
       "\n",
       "    .dataframe thead th {\n",
       "        text-align: right;\n",
       "    }\n",
       "</style>\n",
       "<table border=\"1\" class=\"dataframe\">\n",
       "  <thead>\n",
       "    <tr style=\"text-align: right;\">\n",
       "      <th></th>\n",
       "      <th>payment</th>\n",
       "      <th>month</th>\n",
       "      <th>warehouse</th>\n",
       "      <th>net_revenue</th>\n",
       "    </tr>\n",
       "  </thead>\n",
       "  <tbody>\n",
       "    <tr>\n",
       "      <th>0</th>\n",
       "      <td>Transfer</td>\n",
       "      <td>6</td>\n",
       "      <td>Central</td>\n",
       "      <td>23453.08</td>\n",
       "    </tr>\n",
       "    <tr>\n",
       "      <th>1</th>\n",
       "      <td>Transfer</td>\n",
       "      <td>7</td>\n",
       "      <td>Central</td>\n",
       "      <td>23893.59</td>\n",
       "    </tr>\n",
       "    <tr>\n",
       "      <th>2</th>\n",
       "      <td>Transfer</td>\n",
       "      <td>8</td>\n",
       "      <td>Central</td>\n",
       "      <td>31509.00</td>\n",
       "    </tr>\n",
       "    <tr>\n",
       "      <th>3</th>\n",
       "      <td>Transfer</td>\n",
       "      <td>6</td>\n",
       "      <td>North</td>\n",
       "      <td>17000.12</td>\n",
       "    </tr>\n",
       "    <tr>\n",
       "      <th>4</th>\n",
       "      <td>Transfer</td>\n",
       "      <td>7</td>\n",
       "      <td>North</td>\n",
       "      <td>17585.25</td>\n",
       "    </tr>\n",
       "    <tr>\n",
       "      <th>5</th>\n",
       "      <td>Transfer</td>\n",
       "      <td>8</td>\n",
       "      <td>North</td>\n",
       "      <td>23480.13</td>\n",
       "    </tr>\n",
       "    <tr>\n",
       "      <th>6</th>\n",
       "      <td>Transfer</td>\n",
       "      <td>6</td>\n",
       "      <td>West</td>\n",
       "      <td>8645.98</td>\n",
       "    </tr>\n",
       "    <tr>\n",
       "      <th>7</th>\n",
       "      <td>Transfer</td>\n",
       "      <td>7</td>\n",
       "      <td>West</td>\n",
       "      <td>7606.51</td>\n",
       "    </tr>\n",
       "    <tr>\n",
       "      <th>8</th>\n",
       "      <td>Transfer</td>\n",
       "      <td>8</td>\n",
       "      <td>West</td>\n",
       "      <td>6466.42</td>\n",
       "    </tr>\n",
       "  </tbody>\n",
       "</table>\n",
       "</div>"
      ],
      "text/plain": [
       "    payment  month warehouse  net_revenue\n",
       "0  Transfer      6   Central     23453.08\n",
       "1  Transfer      7   Central     23893.59\n",
       "2  Transfer      8   Central     31509.00\n",
       "3  Transfer      6     North     17000.12\n",
       "4  Transfer      7     North     17585.25\n",
       "5  Transfer      8     North     23480.13\n",
       "6  Transfer      6      West      8645.98\n",
       "7  Transfer      7      West      7606.51\n",
       "8  Transfer      8      West      6466.42"
      ]
     },
     "execution_count": 20,
     "metadata": {
      "application/com.datacamp.data-table.v2+json": {
       "status": "success"
      }
     },
     "output_type": "execute_result"
    }
   ],
   "source": [
    "-- Rank payment methods by net revenue within each warehouse and month\n",
    "WITH ranked_payments AS (\n",
    "\tSELECT\n",
    "\t\tpayment,\n",
    "\t\tEXTRACT(MONTH FROM date) AS month,\n",
    "\t\twarehouse,\n",
    "\t\tSUM(total - payment_fee) AS net_revenue,\n",
    "\t\tROW_NUMBER() OVER (\n",
    "\t\t\tPARTITION BY warehouse, EXTRACT(MONTH FROM date)\n",
    "\t\t\tORDER BY SUM(total - payment_fee) DESC\n",
    "\t\t) AS rank\n",
    "\tFROM sales\n",
    "\tGROUP BY\n",
    "\t\tpayment,\n",
    "\t\tEXTRACT(MONTH FROM date),\n",
    "\t\twarehouse\n",
    ")\n",
    "\n",
    "-- Pick the most profitable payment method per warehouse/month\n",
    "SELECT\n",
    "    payment,\n",
    "    month,\n",
    "    warehouse,\n",
    "    net_revenue\n",
    "FROM ranked_payments\n",
    "WHERE rank = 1\n",
    "ORDER BY warehouse, month;"
   ]
  },
  {
   "cell_type": "markdown",
   "id": "f803013a-972e-48a5-8014-2f5f12aca292",
   "metadata": {
    "collapsed": false,
    "jupyter": {
     "outputs_hidden": false,
     "source_hidden": false
    }
   },
   "source": [
    "The marketing team is planning a targeted campaign and wants to know the most popular product lines for retail and wholesale customers.\n",
    "\n",
    "They have given you the task to find the top 3 most ordered product lines for each client type."
   ]
  },
  {
   "cell_type": "code",
   "execution_count": 30,
   "id": "c006a2bf-ddf9-4909-9a83-6911c06db84c",
   "metadata": {
    "customType": "sql",
    "dataFrameVariableName": "top_3_ordered_product_lines",
    "executionCancelledAt": null,
    "executionTime": null,
    "lastExecutedAt": null,
    "lastExecutedByKernel": null,
    "lastScheduledRunId": null,
    "lastSuccessfullyExecutedCode": null,
    "outputsMetadata": {
     "0": {
      "chartState": {
       "chartModel": {
        "cellRange": {
         "columns": [],
         "rowEndIndex": null,
         "rowEndPinned": null,
         "rowStartIndex": null,
         "rowStartPinned": null
        },
        "chartId": "id-m559xyt9mud",
        "chartOptions": {
         "common": {
          "animation": {
           "enabled": true
          }
         }
        },
        "chartPalette": {
         "altDown": {
          "fill": "#ffa03a",
          "stroke": "#cc6f10"
         },
         "altNeutral": {
          "fill": "#b5b5b5",
          "stroke": "#575757"
         },
         "altUp": {
          "fill": "#5090dc",
          "stroke": "#2b5c95"
         },
         "down": {
          "fill": "#ef5452",
          "stroke": "#a82529"
         },
         "fills": [
          "#6568A0",
          "#43D7A4",
          "#4095DB",
          "#FACC5F",
          "#CAE279",
          "#F08083",
          "#5BCDF2",
          "#F099DC",
          "#965858",
          "#7DB64F",
          "#A98954"
         ],
         "neutral": {
          "fill": "#b5b5b5",
          "stroke": "#575757"
         },
         "strokes": [
          "#6568A0",
          "#43D7A4",
          "#4095DB",
          "#FACC5F",
          "#CAE279",
          "#F08083",
          "#5BCDF2",
          "#F099DC",
          "#965858",
          "#7DB64F",
          "#A98954"
         ],
         "up": {
          "fill": "#459d55",
          "stroke": "#1e652e"
         }
        },
        "chartThemeName": "datalabTheme",
        "chartType": "groupedColumn",
        "modelType": "range",
        "suppressChartRanges": false,
        "switchCategorySeries": false,
        "unlinkChart": false,
        "version": "32.2.2"
       },
       "rangeChartModel": {
        "rangeColumns": [],
        "switchCategorySeries": false
       }
      },
      "height": 275,
      "tableState": {
       "customFilter": {
        "const": {
         "type": "boolean",
         "valid": true,
         "value": true
        },
        "id": "1fb76ace-d663-45aa-887e-d9aae606d655",
        "nodeType": "const"
       }
      },
      "type": "dataFrame"
     }
    },
    "sqlCellMode": "dataFrame",
    "sqlSource": {
     "integrationId": "89e17161-a224-4a8a-846b-0adc0fe7a4b1",
     "type": "integration"
    },
    "version": "ag-charts-v1",
    "visualizeDataframe": false
   },
   "outputs": [
    {
     "data": {
      "application/com.datacamp.data-table.v2+json": {
       "table": {
        "data": {
         "client_type": [
          "Retail",
          "Retail",
          "Retail",
          "Wholesale",
          "Wholesale",
          "Wholesale"
         ],
         "count": [
          177,
          175,
          155,
          55,
          51,
          38
         ],
         "index": [
          0,
          1,
          2,
          3,
          4,
          5
         ],
         "product_line": [
          "Suspension & traction",
          "Braking system",
          "Electrical system",
          "Braking system",
          "Suspension & traction",
          "Frame & body"
         ]
        },
        "schema": {
         "fields": [
          {
           "name": "index",
           "type": "integer"
          },
          {
           "name": "client_type",
           "type": "string"
          },
          {
           "name": "product_line",
           "type": "string"
          },
          {
           "name": "count",
           "type": "integer"
          }
         ],
         "pandas_version": "1.4.0",
         "primaryKey": [
          "index"
         ]
        }
       },
       "total_rows": 6,
       "truncation_type": null
      },
      "text/html": [
       "<div>\n",
       "<style scoped>\n",
       "    .dataframe tbody tr th:only-of-type {\n",
       "        vertical-align: middle;\n",
       "    }\n",
       "\n",
       "    .dataframe tbody tr th {\n",
       "        vertical-align: top;\n",
       "    }\n",
       "\n",
       "    .dataframe thead th {\n",
       "        text-align: right;\n",
       "    }\n",
       "</style>\n",
       "<table border=\"1\" class=\"dataframe\">\n",
       "  <thead>\n",
       "    <tr style=\"text-align: right;\">\n",
       "      <th></th>\n",
       "      <th>client_type</th>\n",
       "      <th>product_line</th>\n",
       "      <th>count</th>\n",
       "    </tr>\n",
       "  </thead>\n",
       "  <tbody>\n",
       "    <tr>\n",
       "      <th>0</th>\n",
       "      <td>Retail</td>\n",
       "      <td>Suspension &amp; traction</td>\n",
       "      <td>177</td>\n",
       "    </tr>\n",
       "    <tr>\n",
       "      <th>1</th>\n",
       "      <td>Retail</td>\n",
       "      <td>Braking system</td>\n",
       "      <td>175</td>\n",
       "    </tr>\n",
       "    <tr>\n",
       "      <th>2</th>\n",
       "      <td>Retail</td>\n",
       "      <td>Electrical system</td>\n",
       "      <td>155</td>\n",
       "    </tr>\n",
       "    <tr>\n",
       "      <th>3</th>\n",
       "      <td>Wholesale</td>\n",
       "      <td>Braking system</td>\n",
       "      <td>55</td>\n",
       "    </tr>\n",
       "    <tr>\n",
       "      <th>4</th>\n",
       "      <td>Wholesale</td>\n",
       "      <td>Suspension &amp; traction</td>\n",
       "      <td>51</td>\n",
       "    </tr>\n",
       "    <tr>\n",
       "      <th>5</th>\n",
       "      <td>Wholesale</td>\n",
       "      <td>Frame &amp; body</td>\n",
       "      <td>38</td>\n",
       "    </tr>\n",
       "  </tbody>\n",
       "</table>\n",
       "</div>"
      ],
      "text/plain": [
       "  client_type           product_line  count\n",
       "0      Retail  Suspension & traction    177\n",
       "1      Retail         Braking system    175\n",
       "2      Retail      Electrical system    155\n",
       "3   Wholesale         Braking system     55\n",
       "4   Wholesale  Suspension & traction     51\n",
       "5   Wholesale           Frame & body     38"
      ]
     },
     "execution_count": 30,
     "metadata": {
      "application/com.datacamp.data-table.v2+json": {
       "status": "success"
      }
     },
     "output_type": "execute_result"
    }
   ],
   "source": [
    "-- Rank product line by number of orders within each client type\n",
    "WITH ranked_products AS (\n",
    "\tSELECT\n",
    "\t\tclient_type,\n",
    "    \tproduct_line,\n",
    "    \tCOUNT(*) AS count,\n",
    "\t\tROW_NUMBER() OVER (\n",
    "\t\t\tPARTITION BY client_type\n",
    "\t\t\tORDER BY COUNT(*) DESC\n",
    "\t\t) AS rank\n",
    "\tFROM sales\n",
    "\tGROUP BY client_type, product_line\n",
    ")\n",
    "\n",
    "-- Pick the top 3 most ordered product lines per client type\n",
    "SELECT\n",
    "    client_type,\n",
    "    product_line,\n",
    "    count\n",
    "FROM ranked_products\n",
    "WHERE rank <= 3\n",
    "ORDER BY\n",
    "\tclient_type, \n",
    "\trank;"
   ]
  }
 ],
 "metadata": {
  "celltoolbar": "Raw Cell Format",
  "editor": "DataCamp Workspace",
  "kernelspec": {
   "display_name": "Python (.conda)",
   "language": "python",
   "name": "my-conda-env"
  },
  "language_info": {
   "codemirror_mode": {
    "name": "ipython",
    "version": 3
   },
   "file_extension": ".py",
   "mimetype": "text/x-python",
   "name": "python",
   "nbconvert_exporter": "python",
   "pygments_lexer": "ipython3",
   "version": "3.12.7"
  },
  "toc": {
   "base_numbering": 1,
   "nav_menu": {},
   "number_sections": true,
   "sideBar": true,
   "skip_h1_title": true,
   "title_cell": "Table of Contents",
   "title_sidebar": "Contents",
   "toc_cell": false,
   "toc_position": {},
   "toc_section_display": true,
   "toc_window_display": true
  },
  "vscode": {
   "interpreter": {
    "hash": "4c28dce1b92814dac96c640b6c1f64aef8100cfec6687e74ab3caef459440498"
   }
  }
 },
 "nbformat": 4,
 "nbformat_minor": 5
}
